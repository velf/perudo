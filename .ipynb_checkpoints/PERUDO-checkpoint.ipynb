{
 "cells": [
  {
   "cell_type": "code",
   "execution_count": 1,
   "metadata": {
    "collapsed": true
   },
   "outputs": [],
   "source": [
    "import random"
   ]
  },
  {
   "cell_type": "code",
   "execution_count": 2,
   "metadata": {
    "collapsed": false
   },
   "outputs": [],
   "source": [
    "from collections import Counter"
   ]
  },
  {
   "cell_type": "code",
   "execution_count": 3,
   "metadata": {
    "collapsed": false
   },
   "outputs": [],
   "source": [
    "def expected_number_of_aces(cubes_in_game):\n",
    "    return (cubes_in_game/6.)"
   ]
  },
  {
   "cell_type": "code",
   "execution_count": 4,
   "metadata": {
    "collapsed": true
   },
   "outputs": [],
   "source": [
    "def expected_number_of_other_numbers(cubes_in_game):\n",
    "    return (cubes_in_game/6.)*2"
   ]
  },
  {
   "cell_type": "code",
   "execution_count": 5,
   "metadata": {
    "collapsed": true
   },
   "outputs": [],
   "source": [
    "def std_aces(cubes_in_games):\n",
    "    return((2./6)**cubes_in_games)"
   ]
  },
  {
   "cell_type": "code",
   "execution_count": 6,
   "metadata": {
    "collapsed": true
   },
   "outputs": [],
   "source": [
    "def std_others(cubes_in_games):\n",
    "    return((1./6)**cubes_in_games)"
   ]
  },
  {
   "cell_type": "markdown",
   "metadata": {},
   "source": [
    "SAJAT ADATOT BELESZAMOLASAVAL FELTETELES VALOSZINUSEG"
   ]
  },
  {
   "cell_type": "code",
   "execution_count": 7,
   "metadata": {
    "collapsed": false
   },
   "outputs": [
    {
     "name": "stdout",
     "output_type": "stream",
     "text": [
      "my numbers: [6, 3]\n"
     ]
    }
   ],
   "source": [
    "n_my_dices=2\n",
    "nums=[]\n",
    "for i in range(0,n_my_dices):\n",
    "    nums.append(random.randint(1,6))\n",
    "print(\"my numbers: \"+str(nums))"
   ]
  },
  {
   "cell_type": "code",
   "execution_count": 8,
   "metadata": {
    "collapsed": false
   },
   "outputs": [],
   "source": [
    "def modell_game(given_number, ncubes, roland):\n",
    "    print(\"my numbers: \"+str(nums))\n",
    "    result=Counter(nums)\n",
    "    my_number=result[given_number]\n",
    "    my_aces=result[1]\n",
    "    cubes=ncubes-n_my_dices\n",
    "    if roland==True:\n",
    "        return(\"no idea give up!\")\n",
    "    else:\n",
    "        print(\"Guessed number:\" +str(given_number))\n",
    "    if given_number==1:\n",
    "        print(\"E(aces)=\"+str(expected_number_of_aces(cubes)+my_aces)+\"  +/- \"+str(std_aces(cubes)))\n",
    "    else:\n",
    "        print(\"E(others)=\"+str(expected_number_of_other_numbers(cubes)+my_number+my_aces))+\"  +/- \"+str(std_others(cubes))\n",
    "    "
   ]
  },
  {
   "cell_type": "code",
   "execution_count": 9,
   "metadata": {
    "collapsed": false
   },
   "outputs": [
    {
     "name": "stdout",
     "output_type": "stream",
     "text": [
      "my numbers: [6, 3]\n",
      "Guessed number:4\n",
      "E(others)=6.0  +/- 9.84640042005e-15\n"
     ]
    }
   ],
   "source": [
    "modell_game(4, 20, roland=False)"
   ]
  },
  {
   "cell_type": "code",
   "execution_count": 11,
   "metadata": {
    "collapsed": false
   },
   "outputs": [
    {
     "name": "stdout",
     "output_type": "stream",
     "text": [
      "my numbers: [6, 3]\n"
     ]
    },
    {
     "data": {
      "text/plain": [
       "'no idea give up!'"
      ]
     },
     "execution_count": 11,
     "metadata": {},
     "output_type": "execute_result"
    }
   ],
   "source": [
    "modell_game(4, 20, roland=True)"
   ]
  },
  {
   "cell_type": "code",
   "execution_count": null,
   "metadata": {
    "collapsed": true
   },
   "outputs": [],
   "source": []
  }
 ],
 "metadata": {
  "anaconda-cloud": {},
  "kernelspec": {
   "display_name": "Python [Root]",
   "language": "python",
   "name": "Python [Root]"
  },
  "language_info": {
   "codemirror_mode": {
    "name": "ipython",
    "version": 2
   },
   "file_extension": ".py",
   "mimetype": "text/x-python",
   "name": "python",
   "nbconvert_exporter": "python",
   "pygments_lexer": "ipython2",
   "version": "2.7.13"
  }
 },
 "nbformat": 4,
 "nbformat_minor": 0
}
